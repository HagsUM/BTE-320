{
  "nbformat": 4,
  "nbformat_minor": 0,
  "metadata": {
    "colab": {
      "provenance": [],
      "toc_visible": true,
      "authorship_tag": "ABX9TyPf10PE2YRmUKvX5aEC8tAv",
      "include_colab_link": true
    },
    "kernelspec": {
      "name": "python3",
      "display_name": "Python 3"
    },
    "language_info": {
      "name": "python"
    }
  },
  "cells": [
    {
      "cell_type": "markdown",
      "metadata": {
        "id": "view-in-github",
        "colab_type": "text"
      },
      "source": [
        "<a href=\"https://colab.research.google.com/github/HagsUM/BTE-320/blob/main/After_Break_Notes.ipynb\" target=\"_parent\"><img src=\"https://colab.research.google.com/assets/colab-badge.svg\" alt=\"Open In Colab\"/></a>"
      ]
    },
    {
      "cell_type": "markdown",
      "source": [
        "Defining Functions"
      ],
      "metadata": {
        "id": "jskTohQb3Jk5"
      }
    },
    {
      "cell_type": "code",
      "execution_count": null,
      "metadata": {
        "id": "F2j56ADo0sZn"
      },
      "outputs": [],
      "source": [
        "def fill(l):\n",
        "  for i in range(10):\n",
        "    l.append(i)\n",
        "    if i%2 == 0:\n",
        "      l.pop()\n",
        "  print(l)\n"
      ]
    },
    {
      "cell_type": "markdown",
      "source": [
        "**Function Syntax:**\n",
        "\n",
        "def function_name():\n",
        "  \n",
        "  Statement(s)\n",
        "      \n"
      ],
      "metadata": {
        "id": "PPuljZ2h4D8-"
      }
    },
    {
      "cell_type": "code",
      "source": [
        "aList = []\n",
        "fill(aList)\n"
      ],
      "metadata": {
        "colab": {
          "base_uri": "https://localhost:8080/"
        },
        "id": "u27F3NFv48T-",
        "outputId": "5494ff17-2a5f-4036-da1d-e849dab91360"
      },
      "execution_count": null,
      "outputs": [
        {
          "output_type": "stream",
          "name": "stdout",
          "text": [
            "[1, 3, 5, 7, 9]\n"
          ]
        }
      ]
    },
    {
      "cell_type": "code",
      "source": [
        "def greeting(n):\n",
        "  return f'Hello {n}!'\n",
        "\n",
        "name = input('Enter Name: ')\n",
        "message = greeting(name)\n",
        "print(message)"
      ],
      "metadata": {
        "colab": {
          "base_uri": "https://localhost:8080/"
        },
        "id": "TRkzk9vE8U_y",
        "outputId": "57b59234-86bc-4dcc-c7c0-847fdb763a1c"
      },
      "execution_count": null,
      "outputs": [
        {
          "output_type": "stream",
          "name": "stdout",
          "text": [
            "Enter Name: Jayden\n",
            "Hello Jayden!\n"
          ]
        }
      ]
    },
    {
      "cell_type": "markdown",
      "source": [
        "# March 20 Notes"
      ],
      "metadata": {
        "id": "53P3doViHuhM"
      }
    },
    {
      "cell_type": "code",
      "source": [
        "def add_num(a,b):\n",
        "  c = a + b\n",
        "  return c, c ** 2\n",
        "\n",
        "x = 5\n",
        "y = 6\n",
        "c = add_num(x,y)\n",
        "print(c[1])\n"
      ],
      "metadata": {
        "colab": {
          "base_uri": "https://localhost:8080/"
        },
        "id": "_KO67FozHzmL",
        "outputId": "38037f67-1588-4404-ba2b-6eee054bd778"
      },
      "execution_count": 4,
      "outputs": [
        {
          "output_type": "stream",
          "name": "stdout",
          "text": [
            "121\n"
          ]
        }
      ]
    },
    {
      "cell_type": "code",
      "source": [
        "def add_num(a,b):\n",
        "  c = a + b\n",
        "  return c, c ** 2\n",
        "\n",
        "x = 5\n",
        "y = 6\n",
        "c, c_sq = add_num(x,y)\n",
        "print(c_sq)"
      ],
      "metadata": {
        "colab": {
          "base_uri": "https://localhost:8080/"
        },
        "id": "2bAB49FwOhZ9",
        "outputId": "82d912e6-02b9-4d32-c95c-75441d815974"
      },
      "execution_count": 5,
      "outputs": [
        {
          "output_type": "stream",
          "name": "stdout",
          "text": [
            "121\n"
          ]
        }
      ]
    },
    {
      "cell_type": "code",
      "source": [
        "def add_num(a,b):\n",
        "  c = a + b\n",
        "  return c, c ** 2\n",
        "\n",
        "x = 5\n",
        "y = 6\n",
        "c = add_num(a=x,b=y)\n",
        "print(c)"
      ],
      "metadata": {
        "id": "LBiXj4yxPqXo"
      },
      "execution_count": null,
      "outputs": []
    },
    {
      "cell_type": "markdown",
      "source": [
        "Pasing by keyword^^^ (No order is necessary)"
      ],
      "metadata": {
        "id": "HpM9FuDzP0Cz"
      }
    },
    {
      "cell_type": "code",
      "source": [
        "def add_num(a,b):\n",
        "  c = a + b\n",
        "  return c, c ** 2\n",
        "\n",
        "x = 5\n",
        "y = 6\n",
        "c = add_num(x, b=y)\n",
        "print(c)"
      ],
      "metadata": {
        "id": "1ZOgOvOTQT_d"
      },
      "execution_count": null,
      "outputs": []
    },
    {
      "cell_type": "markdown",
      "source": [
        "Not frequently seen, avoid it for now. Its awkward and you can get weird errors.\n",
        "\n",
        "You cannot put an \"=\" term before a different variable in a function. it returns an error"
      ],
      "metadata": {
        "id": "iTuY9k6hQY2M"
      }
    },
    {
      "cell_type": "markdown",
      "source": [
        "Key word **return** can:\n",
        "\n",
        "  Return a variable, object, or expression\n",
        "\n",
        "Functions in python that return more than one value return them as a tuple***"
      ],
      "metadata": {
        "id": "forFrPFpMg2B"
      }
    }
  ]
}