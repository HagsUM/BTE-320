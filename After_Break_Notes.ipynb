{
  "nbformat": 4,
  "nbformat_minor": 0,
  "metadata": {
    "colab": {
      "provenance": [],
      "authorship_tag": "ABX9TyP9Z6urOu+uOu3c1/EDLCbg",
      "include_colab_link": true
    },
    "kernelspec": {
      "name": "python3",
      "display_name": "Python 3"
    },
    "language_info": {
      "name": "python"
    }
  },
  "cells": [
    {
      "cell_type": "markdown",
      "metadata": {
        "id": "view-in-github",
        "colab_type": "text"
      },
      "source": [
        "<a href=\"https://colab.research.google.com/github/HagsUM/BTE-320/blob/main/After_Break_Notes.ipynb\" target=\"_parent\"><img src=\"https://colab.research.google.com/assets/colab-badge.svg\" alt=\"Open In Colab\"/></a>"
      ]
    },
    {
      "cell_type": "markdown",
      "source": [
        "Defining Functions"
      ],
      "metadata": {
        "id": "jskTohQb3Jk5"
      }
    },
    {
      "cell_type": "code",
      "execution_count": null,
      "metadata": {
        "id": "F2j56ADo0sZn"
      },
      "outputs": [],
      "source": [
        "def fill(l):\n",
        "  for i in range(10):\n",
        "    l.append(i)\n",
        "    if i%2 == 0:\n",
        "      l.pop()\n",
        "  print(l)\n"
      ]
    },
    {
      "cell_type": "markdown",
      "source": [
        "**Function Syntax:**\n",
        "\n",
        "def function_name():\n",
        "  \n",
        "  Statement(s)\n",
        "      \n"
      ],
      "metadata": {
        "id": "PPuljZ2h4D8-"
      }
    },
    {
      "cell_type": "code",
      "source": [
        "aList = []\n",
        "fill(aList)\n"
      ],
      "metadata": {
        "colab": {
          "base_uri": "https://localhost:8080/"
        },
        "id": "u27F3NFv48T-",
        "outputId": "5494ff17-2a5f-4036-da1d-e849dab91360"
      },
      "execution_count": null,
      "outputs": [
        {
          "output_type": "stream",
          "name": "stdout",
          "text": [
            "[1, 3, 5, 7, 9]\n"
          ]
        }
      ]
    },
    {
      "cell_type": "code",
      "source": [
        "def greeting(n):\n",
        "  return f'Hello {n}!'\n",
        "\n",
        "name = input('Enter Name: ')\n",
        "message = greeting(name)\n",
        "print(message)"
      ],
      "metadata": {
        "colab": {
          "base_uri": "https://localhost:8080/"
        },
        "id": "TRkzk9vE8U_y",
        "outputId": "57b59234-86bc-4dcc-c7c0-847fdb763a1c"
      },
      "execution_count": 16,
      "outputs": [
        {
          "output_type": "stream",
          "name": "stdout",
          "text": [
            "Enter Name: Jayden\n",
            "Hello Jayden!\n"
          ]
        }
      ]
    }
  ]
}