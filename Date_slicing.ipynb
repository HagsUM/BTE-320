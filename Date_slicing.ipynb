{
  "nbformat": 4,
  "nbformat_minor": 0,
  "metadata": {
    "colab": {
      "provenance": [],
      "authorship_tag": "ABX9TyPafk5MLfIMLz/rIpu/A3Uy",
      "include_colab_link": true
    },
    "kernelspec": {
      "name": "python3",
      "display_name": "Python 3"
    },
    "language_info": {
      "name": "python"
    }
  },
  "cells": [
    {
      "cell_type": "markdown",
      "metadata": {
        "id": "view-in-github",
        "colab_type": "text"
      },
      "source": [
        "<a href=\"https://colab.research.google.com/github/HagsUM/BTE-320/blob/main/Date_slicing.ipynb\" target=\"_parent\"><img src=\"https://colab.research.google.com/assets/colab-badge.svg\" alt=\"Open In Colab\"/></a>"
      ]
    },
    {
      "cell_type": "code",
      "execution_count": 3,
      "metadata": {
        "colab": {
          "base_uri": "https://localhost:8080/"
        },
        "id": "S24dSR6mNm_c",
        "outputId": "c9a6ae34-1170-4a18-e27c-bafa0e10bf3a"
      },
      "outputs": [
        {
          "output_type": "stream",
          "name": "stdout",
          "text": [
            "input todays date in the following format, MM/DD/YYYY: 01/18/2004\n",
            "01 18 2004\n"
          ]
        }
      ],
      "source": [
        "user_date = input('input todays date in the following format, MM/DD/YYYY: ')\n",
        "month = user_date[:2]\n",
        "day = user_date[3:5]\n",
        "year = user_date[6:len(user_date)]\n",
        "\n",
        "print(month, day, year)"
      ]
    }
  ]
}