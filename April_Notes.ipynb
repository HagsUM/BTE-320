{
  "nbformat": 4,
  "nbformat_minor": 0,
  "metadata": {
    "colab": {
      "provenance": [],
      "authorship_tag": "ABX9TyNQ4t/GboLGibXn+2iWu9Wh",
      "include_colab_link": true
    },
    "kernelspec": {
      "name": "python3",
      "display_name": "Python 3"
    },
    "language_info": {
      "name": "python"
    }
  },
  "cells": [
    {
      "cell_type": "markdown",
      "metadata": {
        "id": "view-in-github",
        "colab_type": "text"
      },
      "source": [
        "<a href=\"https://colab.research.google.com/github/HagsUM/BTE-320/blob/main/April_Notes.ipynb\" target=\"_parent\"><img src=\"https://colab.research.google.com/assets/colab-badge.svg\" alt=\"Open In Colab\"/></a>"
      ]
    },
    {
      "cell_type": "code",
      "execution_count": null,
      "metadata": {
        "colab": {
          "base_uri": "https://localhost:8080/"
        },
        "id": "R3mydDWF7ff9",
        "outputId": "afe48100-dd0e-4d24-b534-2e0346a9d44f"
      },
      "outputs": [
        {
          "output_type": "stream",
          "name": "stdout",
          "text": [
            "11\n",
            "10\n",
            "9\n",
            "8\n",
            "7\n",
            "6\n",
            "5\n",
            "4\n",
            "3\n",
            "2\n",
            "1\n",
            "0\n"
          ]
        }
      ],
      "source": [
        "def countdown(n):\n",
        "  while n >= 0:\n",
        "    print(n)\n",
        "    n = n - 1\n",
        "\n",
        "countdown(11)"
      ]
    },
    {
      "cell_type": "markdown",
      "source": [
        "Base Case: trivial version of the problem\n",
        "\n",
        "\n",
        "Inductive Case: Divide into simpler versions"
      ],
      "metadata": {
        "id": "_vRqhke09Z7Q"
      }
    },
    {
      "cell_type": "code",
      "source": [
        "def recursive_countdown(n):\n",
        "  if n == 0:\n",
        "    print(0)\n",
        "  else:\n",
        "    print(n)\n",
        "    recursive_countdown(n-1)\n",
        "\n",
        "recursive_countdown(6)"
      ],
      "metadata": {
        "colab": {
          "base_uri": "https://localhost:8080/"
        },
        "id": "WofxR6K_8vFC",
        "outputId": "50a3d55e-c350-47a9-e48c-62efdb328d4a"
      },
      "execution_count": null,
      "outputs": [
        {
          "output_type": "stream",
          "name": "stdout",
          "text": [
            "6\n",
            "5\n",
            "4\n",
            "3\n",
            "2\n",
            "1\n",
            "0\n"
          ]
        }
      ]
    },
    {
      "cell_type": "code",
      "source": [
        "def summation(n):\n",
        "  while n >= 0:\n",
        "    s = s + n\n",
        "    n = n - 1\n",
        "  return s"
      ],
      "metadata": {
        "id": "txEhqVHNBtca"
      },
      "execution_count": null,
      "outputs": []
    },
    {
      "cell_type": "code",
      "source": [
        "def recursive_summation(n):\n",
        "  if n == 0:\n",
        "    return 0\n",
        "  else:\n",
        "    return n + recursive_summation(n-1)"
      ],
      "metadata": {
        "id": "_m_fMNM1FsOI"
      },
      "execution_count": null,
      "outputs": []
    },
    {
      "cell_type": "code",
      "source": [
        "def fibr(n):\n",
        "  if n == 0 or n == 1:\n",
        "    return 1\n",
        "  else:\n",
        "    return fibr(n-1) + fibr(n-2)\n",
        "\n",
        "for i in range(8):\n",
        "  print(fibr(i), end=\" \")\n"
      ],
      "metadata": {
        "id": "glnV2-zcO6RN"
      },
      "execution_count": null,
      "outputs": []
    },
    {
      "cell_type": "code",
      "source": [
        "def fact(n):\n",
        "  if n == 1:\n",
        "    return 1\n",
        "  else:\n",
        "    return n * fact(n-1)\n",
        "\n",
        "fact(5)"
      ],
      "metadata": {
        "id": "29wAdqRgRLW3"
      },
      "execution_count": null,
      "outputs": []
    },
    {
      "cell_type": "code",
      "source": [
        "def reverse(n):\n",
        "  if n == \"Hello\":\n",
        "    return \"olleH\"\n",
        "  else:\n",
        "    print('incorrect input')\n",
        "\n",
        "reverse(input(\"Write a word, (probably should do Hello): \"))"
      ],
      "metadata": {
        "id": "ugwSC_tnS5xV"
      },
      "execution_count": null,
      "outputs": []
    },
    {
      "cell_type": "code",
      "source": [
        "def reverse(n):\n",
        "  if len(n) == 1:\n",
        "    return n\n",
        "  else:\n",
        "   return n[(len(n) - 1)]\n",
        "\n",
        "reverse(input(\"Write a word: \"))"
      ],
      "metadata": {
        "colab": {
          "base_uri": "https://localhost:8080/",
          "height": 315
        },
        "id": "16p4feErWZUk",
        "outputId": "0bfbb4ec-3e7f-435e-cb85-fa65c41d51d2"
      },
      "execution_count": 20,
      "outputs": [
        {
          "name": "stdout",
          "output_type": "stream",
          "text": [
            "Write a word: hellp\n"
          ]
        },
        {
          "output_type": "error",
          "ename": "IndexError",
          "evalue": "string index out of range",
          "traceback": [
            "\u001b[0;31m---------------------------------------------------------------------------\u001b[0m",
            "\u001b[0;31mIndexError\u001b[0m                                Traceback (most recent call last)",
            "\u001b[0;32m<ipython-input-20-a7dcb0b8d91d>\u001b[0m in \u001b[0;36m<cell line: 7>\u001b[0;34m()\u001b[0m\n\u001b[1;32m      5\u001b[0m    \u001b[0;32mreturn\u001b[0m \u001b[0mn\u001b[0m\u001b[0;34m[\u001b[0m\u001b[0;34m(\u001b[0m\u001b[0mlen\u001b[0m\u001b[0;34m(\u001b[0m\u001b[0mn\u001b[0m\u001b[0;34m)\u001b[0m \u001b[0;34m-\u001b[0m \u001b[0;36m1\u001b[0m\u001b[0;34m)\u001b[0m\u001b[0;34m**\u001b[0m\u001b[0mlen\u001b[0m\u001b[0;34m(\u001b[0m\u001b[0mn\u001b[0m\u001b[0;34m)\u001b[0m\u001b[0;34m]\u001b[0m\u001b[0;34m\u001b[0m\u001b[0;34m\u001b[0m\u001b[0m\n\u001b[1;32m      6\u001b[0m \u001b[0;34m\u001b[0m\u001b[0m\n\u001b[0;32m----> 7\u001b[0;31m \u001b[0mreverse\u001b[0m\u001b[0;34m(\u001b[0m\u001b[0minput\u001b[0m\u001b[0;34m(\u001b[0m\u001b[0;34m\"Write a word: \"\u001b[0m\u001b[0;34m)\u001b[0m\u001b[0;34m)\u001b[0m\u001b[0;34m\u001b[0m\u001b[0;34m\u001b[0m\u001b[0m\n\u001b[0m",
            "\u001b[0;32m<ipython-input-20-a7dcb0b8d91d>\u001b[0m in \u001b[0;36mreverse\u001b[0;34m(n)\u001b[0m\n\u001b[1;32m      3\u001b[0m     \u001b[0;32mreturn\u001b[0m \u001b[0mn\u001b[0m\u001b[0;34m\u001b[0m\u001b[0;34m\u001b[0m\u001b[0m\n\u001b[1;32m      4\u001b[0m   \u001b[0;32melse\u001b[0m\u001b[0;34m:\u001b[0m\u001b[0;34m\u001b[0m\u001b[0;34m\u001b[0m\u001b[0m\n\u001b[0;32m----> 5\u001b[0;31m    \u001b[0;32mreturn\u001b[0m \u001b[0mn\u001b[0m\u001b[0;34m[\u001b[0m\u001b[0;34m(\u001b[0m\u001b[0mlen\u001b[0m\u001b[0;34m(\u001b[0m\u001b[0mn\u001b[0m\u001b[0;34m)\u001b[0m \u001b[0;34m-\u001b[0m \u001b[0;36m1\u001b[0m\u001b[0;34m)\u001b[0m\u001b[0;34m**\u001b[0m\u001b[0mlen\u001b[0m\u001b[0;34m(\u001b[0m\u001b[0mn\u001b[0m\u001b[0;34m)\u001b[0m\u001b[0;34m]\u001b[0m\u001b[0;34m\u001b[0m\u001b[0;34m\u001b[0m\u001b[0m\n\u001b[0m\u001b[1;32m      6\u001b[0m \u001b[0;34m\u001b[0m\u001b[0m\n\u001b[1;32m      7\u001b[0m \u001b[0mreverse\u001b[0m\u001b[0;34m(\u001b[0m\u001b[0minput\u001b[0m\u001b[0;34m(\u001b[0m\u001b[0;34m\"Write a word: \"\u001b[0m\u001b[0;34m)\u001b[0m\u001b[0;34m)\u001b[0m\u001b[0;34m\u001b[0m\u001b[0;34m\u001b[0m\u001b[0m\n",
            "\u001b[0;31mIndexError\u001b[0m: string index out of range"
          ]
        }
      ]
    }
  ]
}