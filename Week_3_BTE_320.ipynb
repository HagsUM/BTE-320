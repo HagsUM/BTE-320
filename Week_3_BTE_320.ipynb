{
  "nbformat": 4,
  "nbformat_minor": 0,
  "metadata": {
    "colab": {
      "provenance": [],
      "toc_visible": true,
      "authorship_tag": "ABX9TyOmB/sXRxtgvWVYQ69gyMj9",
      "include_colab_link": true
    },
    "kernelspec": {
      "name": "python3",
      "display_name": "Python 3"
    },
    "language_info": {
      "name": "python"
    }
  },
  "cells": [
    {
      "cell_type": "markdown",
      "metadata": {
        "id": "view-in-github",
        "colab_type": "text"
      },
      "source": [
        "<a href=\"https://colab.research.google.com/github/HagsUM/BTE-320/blob/main/Week_3_BTE_320.ipynb\" target=\"_parent\"><img src=\"https://colab.research.google.com/assets/colab-badge.svg\" alt=\"Open In Colab\"/></a>"
      ]
    },
    {
      "cell_type": "markdown",
      "source": [
        "# Jan 29 Notes"
      ],
      "metadata": {
        "id": "35wuTfYV_aTl"
      }
    },
    {
      "cell_type": "markdown",
      "source": [
        "**My attempt:**"
      ],
      "metadata": {
        "id": "NsDacKHBxX2u"
      }
    },
    {
      "cell_type": "code",
      "execution_count": null,
      "metadata": {
        "colab": {
          "base_uri": "https://localhost:8080/"
        },
        "id": "weFyH-DmvedK",
        "outputId": "d3f450e0-95d9-403a-d534-4211076498b2"
      },
      "outputs": [
        {
          "output_type": "stream",
          "name": "stdout",
          "text": [
            "Input deposit amount: 97.09\n",
            "Total: 100.0027\n"
          ]
        }
      ],
      "source": [
        "deposit = int(input('Input deposit amount: '))\n",
        "\n",
        "if deposit > 10000:\n",
        "  ir = 0.035\n",
        "elif 1000 < deposit < 10000:\n",
        "  ir = 0.0325\n",
        "else:\n",
        "  ir = 0.03\n",
        "\n",
        "print('Total:',(1+ir)*deposit)"
      ]
    },
    {
      "cell_type": "markdown",
      "source": [
        "**Professors Answer:**\n",
        "\n",
        "```\n",
        "# This is formatted as code\n",
        "```\n",
        "\n"
      ],
      "metadata": {
        "id": "-7cg6Y5XxWGE"
      }
    },
    {
      "cell_type": "code",
      "source": [
        "deposit = float(input('Enter deposit amount: '))\n",
        "\n",
        "if deposit > 10000:\n",
        "  ir = 3.5\n",
        "elif deposit <= 1000:\n",
        "  ir = 3.0\n",
        "else:\n",
        "  ir = 3.25\n",
        "\n",
        "total = (1 + ir/100) * deposit\n",
        "print(f'Deposit at the end of year: {round(total,2)}')"
      ],
      "metadata": {
        "colab": {
          "base_uri": "https://localhost:8080/"
        },
        "id": "MXuu-TsOxVXD",
        "outputId": "4ab803cc-ed96-4bc4-ecd8-310d617b8651"
      },
      "execution_count": null,
      "outputs": [
        {
          "output_type": "stream",
          "name": "stdout",
          "text": [
            "Enter deposit amount: 125\n",
            "Deposit at the end of year: 128.75\n"
          ]
        }
      ]
    },
    {
      "cell_type": "markdown",
      "source": [
        "His is different than mine because he used the round function and declares a Total Variable. Note that for future codes."
      ],
      "metadata": {
        "id": "9djMtDvPyaks"
      }
    },
    {
      "cell_type": "markdown",
      "source": [
        "Nested Conditionals:\n",
        "- conditionals that work off of one another\n",
        "- Very dependant on indentations\n",
        "\n",
        "\n"
      ],
      "metadata": {
        "id": "9rhoKgzmz1GM"
      }
    },
    {
      "cell_type": "code",
      "source": [
        "if x%2 == 0:\n",
        "  if x%3 ==:\n",
        "    print('Divisible by 2 and 3')\n",
        "  else:\n",
        "    print('Divisible by 2 not 3')\n",
        "elif x%3 == 0:\n",
        "  print('Divisible by 3 not 2')\n",
        "else:\n",
        "  print('Not divisible by either 2 or 3')"
      ],
      "metadata": {
        "id": "X58XJsll12gH"
      },
      "execution_count": null,
      "outputs": []
    },
    {
      "cell_type": "markdown",
      "source": [
        "Above is an example of nested conditionals, it doesnt run but it is how to format it"
      ],
      "metadata": {
        "id": "BNcu15wi2RHp"
      }
    },
    {
      "cell_type": "code",
      "source": [
        "customer_type = input('Enter Customer type (n: new, e: existing): ')\n",
        "deposit = float(input('Enter deposit amount: '))\n",
        "if customer_type == 'e':\n",
        "  if deposit > 10000:\n",
        "    ir = 3.5\n",
        "  elif deposit <= 1000:\n",
        "    ir = 3.0\n",
        "  else:\n",
        "    ir = 3.25\n",
        "else:\n",
        "  ir = 3.0\n",
        "\n",
        "total = (1 + ir/100) * deposit\n",
        "print(f'Deposit at the end of year: {round(total,2)}')"
      ],
      "metadata": {
        "colab": {
          "base_uri": "https://localhost:8080/"
        },
        "id": "AjTnUave0Z7x",
        "outputId": "2d5b921a-5ba6-42d7-c79f-f979cca721bd"
      },
      "execution_count": null,
      "outputs": [
        {
          "output_type": "stream",
          "name": "stdout",
          "text": [
            "Enter Customer type (n: new, e: existing): n\n",
            "Enter deposit amount: 1000\n",
            "Deposit at the end of year: 1030.0\n"
          ]
        }
      ]
    },
    {
      "cell_type": "markdown",
      "source": [
        "Above is the previous code enhanced by using nested conditionals"
      ],
      "metadata": {
        "id": "RImEqHWN3ILg"
      }
    },
    {
      "cell_type": "markdown",
      "source": [
        "#January 31 Notes\n"
      ],
      "metadata": {
        "id": "Voh1Cf1h_Jio"
      }
    },
    {
      "cell_type": "markdown",
      "source": [
        "Compound Boolean Expressions: the use of **and**\n"
      ],
      "metadata": {
        "id": "xvrwRSNi_XYT"
      }
    },
    {
      "cell_type": "code",
      "source": [
        "x = float(input('Enter a number: '))\n",
        "if x%2 == 0 and x%3 == 0:\n",
        "  print('Divisible by 2 and 3')\n",
        "elif x%2 == 0:\n",
        "  print('Divisible by 2')\n",
        "elif x%3 == 0:\n",
        "  print('Divisible by 3')\n",
        "else:\n",
        "  print('Not divisible by 2 or 3')"
      ],
      "metadata": {
        "colab": {
          "base_uri": "https://localhost:8080/"
        },
        "id": "ugtUKBuBBLdc",
        "outputId": "c44325a1-cb51-4057-d8fb-5844ae41ae2b"
      },
      "execution_count": null,
      "outputs": [
        {
          "output_type": "stream",
          "name": "stdout",
          "text": [
            "Enter a number: 5\n",
            "Not divisible by 2 or 3\n"
          ]
        }
      ]
    },
    {
      "cell_type": "markdown",
      "source": [
        "Use parentheses to group things in conditionals"
      ],
      "metadata": {
        "id": "khDhfBI9B3ii"
      }
    },
    {
      "cell_type": "code",
      "source": [
        "if (age > 25 and m_status == 'single') or assets > 100000:\n",
        "  print('Eligible for loan')"
      ],
      "metadata": {
        "id": "D83Rnr38Cnaw"
      },
      "execution_count": null,
      "outputs": []
    },
    {
      "cell_type": "markdown",
      "source": [
        "Conditionals move from left to right when evaluating"
      ],
      "metadata": {
        "id": "v3nDNC__EB7t"
      }
    },
    {
      "cell_type": "markdown",
      "source": [
        "Below:\n",
        "Decide which number is the smallest"
      ],
      "metadata": {
        "id": "FQLRH7qoFO18"
      }
    },
    {
      "cell_type": "code",
      "source": [
        "x = 2\n",
        "y = 4\n",
        "z = 6\n",
        "\n",
        "if x < y and x < z:\n",
        "  print('x is the smallest')\n",
        "elif y < z:\n",
        "  print('y is the smallest')\n",
        "else:\n",
        "  print('z is the smallest')"
      ],
      "metadata": {
        "id": "OJWm8p87EIWF",
        "colab": {
          "base_uri": "https://localhost:8080/"
        },
        "outputId": "25f51e90-e6d7-45af-e6a2-58e6b254ad94"
      },
      "execution_count": null,
      "outputs": [
        {
          "output_type": "stream",
          "name": "stdout",
          "text": [
            "x is the smallest\n"
          ]
        }
      ]
    },
    {
      "cell_type": "code",
      "source": [
        "x = 2\n",
        "y = 4\n",
        "z = 6\n",
        "\n",
        "if x%2 != 0 and y%2 != 0 and z%2 != 0:\n",
        "    print(max(x, y, z))\n",
        "elif x%2 != 0 and y%2 != 0 and z%2 == 0:\n",
        "    print(max(x, y))\n",
        "elif x%2 != 0 and y%2 == 0 and z%2 != 0:\n",
        "    print(max(x, z))\n",
        "elif x%2 == 0 and y%2 != 0 and z%2 != 0:\n",
        "    print(max(y, z))\n",
        "elif x%2 != 0 and y%2 == 0 and z%2 == 0:\n",
        "    print(x)\n",
        "elif x%2 == 0 and y%2 != 0 and z%2 == 0:\n",
        "    print(y)\n",
        "elif x%2 == 0 and y%2 == 0 and z%2 != 0:\n",
        "    print(z)\n",
        "else:\n",
        "    print(min(x, y, z))"
      ],
      "metadata": {
        "id": "EqPcjETyG6I1"
      },
      "execution_count": null,
      "outputs": []
    },
    {
      "cell_type": "markdown",
      "source": [
        "Above is a code that chooses the largest odd number of x y or z. If none are odd it prints the smallest of x y or z"
      ],
      "metadata": {
        "id": "eWZ8z7MbHvUN"
      }
    },
    {
      "cell_type": "code",
      "source": [
        "x = int(input(\"Give value for x: \"))\n",
        "y = int(input(\"Give value for y: \"))\n",
        "z = int(input(\"Give value for z: \"))\n",
        "\n",
        "# Begin by assigning a provisional value in the variable answer, hypothesizing that all x,y,z are even...\n",
        "answer = min(x, y, z)\n",
        "if x%2 != 0:\n",
        "    # ...updating when appropriate...\n",
        "    answer = x\n",
        "if y%2 != 0 and y > answer:\n",
        "    # ...updating when appropriate...\n",
        "    answer = y\n",
        "if z%2 != 0 and z > answer:\n",
        "    # ...updating when appropriate...\n",
        "    answer = z\n",
        "# ...and finally print the results\n",
        "if x%2 == 0 and y%2 == 0 and z%2 == 0:\n",
        "  print(f'The minimum even value is: {answer}')\n",
        "else:\n",
        "  print(f'The maximum odd value is: {answer}')"
      ],
      "metadata": {
        "id": "EyN07dfqICKx"
      },
      "execution_count": null,
      "outputs": []
    },
    {
      "cell_type": "markdown",
      "source": [
        "above is a more streamlined approach to the previous code. It also includes inputs and is more advanced while being shorter"
      ],
      "metadata": {
        "id": "OALiGxpnIF2i"
      }
    },
    {
      "cell_type": "code",
      "source": [
        "x = y if y > 2 else z"
      ],
      "metadata": {
        "id": "aJGiwKmQKI96"
      },
      "execution_count": null,
      "outputs": []
    },
    {
      "cell_type": "markdown",
      "source": [
        "Single line conditional expressions^^"
      ],
      "metadata": {
        "id": "qlzGoG8zKRs9"
      }
    },
    {
      "cell_type": "code",
      "source": [
        "print('Even' if x%2 00 0 else 'Odd')"
      ],
      "metadata": {
        "id": "5yZa1iWrK0EA"
      },
      "execution_count": null,
      "outputs": []
    },
    {
      "cell_type": "markdown",
      "source": [
        "Another Example^^"
      ],
      "metadata": {
        "id": "8w7wp_Z6K7lI"
      }
    },
    {
      "cell_type": "markdown",
      "source": [
        "Iterations (Loops):\n",
        "it is similar to a conditional but continues to evaluate itself until it becomes false. More info next class"
      ],
      "metadata": {
        "id": "nNdKQ6GlK-lm"
      }
    },
    {
      "cell_type": "markdown",
      "source": [
        "# FEB 2 GAME"
      ],
      "metadata": {
        "id": "i7kmcV5QUYAU"
      }
    },
    {
      "cell_type": "markdown",
      "source": [
        "Below is first attempt"
      ],
      "metadata": {
        "id": "6dXaTf2ndt0n"
      }
    },
    {
      "cell_type": "code",
      "source": [
        "import random\n",
        "user_input = input('Enter rock, paper, or scissors: ')\n",
        "pc_choice = random.choice(['rock','paper','scissors'])\n",
        "\n",
        "if user_input == pc_choice:\n",
        "  print('Its a tie')\n",
        "elif user_input == 'paper' and pc_choice == 'rock':\n",
        "  print('You win!')\n",
        "elif user_input == 'scissors' and pc_choice == 'rock':\n",
        "  print('You lose')\n",
        "elif user_input == 'rock' and pc_choice == 'paper':\n",
        "  print('You lose')\n",
        "elif user_input == 'scissors' and pc_choice == 'paper':\n",
        "  print('You Win!')\n",
        "elif user_input =='rock' and pc_choice == 'scissors':\n",
        "  print('You Win!')\n",
        "else:\n",
        "  print('You lose')\n",
        "\n",
        "\n",
        "\n",
        "\n"
      ],
      "metadata": {
        "colab": {
          "base_uri": "https://localhost:8080/"
        },
        "id": "VNSNVmS8UQqR",
        "outputId": "ba9b44ee-a8f2-4b3a-ec16-d40d96359116"
      },
      "execution_count": null,
      "outputs": [
        {
          "output_type": "stream",
          "name": "stdout",
          "text": [
            "Enter rock, paper, or scissors: scissors\n",
            "You lose\n"
          ]
        }
      ]
    },
    {
      "cell_type": "markdown",
      "source": [
        "Below is the code above optimized"
      ],
      "metadata": {
        "id": "2zb2JvUpdv-e"
      }
    },
    {
      "cell_type": "code",
      "source": [
        "import random\n",
        "user_input = input('Enter rock, paper, or scissors: ')\n",
        "pc_choice = random.choice(['rock','paper','scissors'])\n",
        "\n",
        "if user_input == pc_choice:\n",
        "  print(f'Computer chose: {pc_choice}... Its a tie :/')\n",
        "elif (user_input == 'paper' and pc_choice == 'rock') or (user_input == 'scissors' and pc_choice == 'paper') or (user_input =='rock' and pc_choice == 'scissors'):\n",
        "  print(f'Computer chose: {pc_choice}... You win!')\n",
        "else:\n",
        "  print(f'Computer chose: {pc_choice}... You lose :(')"
      ],
      "metadata": {
        "id": "IdYP3kqgbACL"
      },
      "execution_count": null,
      "outputs": []
    },
    {
      "cell_type": "markdown",
      "source": [
        "below is a while loop example of rock paper scissors"
      ],
      "metadata": {
        "id": "Y4YpEwrs30Fr"
      }
    },
    {
      "cell_type": "code",
      "source": [
        "import random\n",
        "user_input = input('Do you want to play the game? Please enter: yes or no ')\n",
        "while user_input == 'yes':\n",
        "  user_input = input('Enter rock, paper, or scissors: ')\n",
        "  pc_choice = random.choice(['rock','paper','scissors'])\n",
        "\n",
        "  if user_input == pc_choice:\n",
        "    print(f'Computer chose: {pc_choice}... Its a tie :/')\n",
        "  elif (user_input == 'paper' and pc_choice == 'rock') or (user_input == 'scissors' and pc_choice == 'paper') or (user_input =='rock' and pc_choice == 'scissors'):\n",
        "   print(f'Computer chose: {pc_choice}... You win!')\n",
        "  else:\n",
        "   print(f'Computer chose: {pc_choice}... You lose :(')\n",
        "  user_input = input('Do you want to play the game? Please enter: yes or no ')"
      ],
      "metadata": {
        "id": "wjwUzJ233tym"
      },
      "execution_count": null,
      "outputs": []
    },
    {
      "cell_type": "markdown",
      "source": [
        "# Feb 12 Game"
      ],
      "metadata": {
        "id": "UC2jh8JP4lWE"
      }
    },
    {
      "cell_type": "markdown",
      "source": [
        "The project is to design a calculator"
      ],
      "metadata": {
        "id": "1oc097GA4p1F"
      }
    },
    {
      "cell_type": "code",
      "source": [
        "while 'user_op' == 'user_op':\n",
        "  user_number = float(input('Enter your first number '))\n",
        "  user_op = input('Enter your operator ')\n",
        "  user_number2 = float(input('Enter your second number '))\n",
        "\n",
        "  if user_op == '+':\n",
        "    print('Your answer is:', user_number + user_number2)\n",
        "\n",
        "  elif user_op == '-':\n",
        "    print('Your answer is:', user_number - user_number2)\n",
        "\n",
        "  elif user_op == '*':\n",
        "    print('Your answer is:', user_number * user_number2)\n",
        "\n",
        "  elif user_op == '/':\n",
        "    print('Your answer is:', user_number / user_number2)\n",
        "\n",
        "  elif user_op == '//':\n",
        "    print('Your answer is:', user_number // user_number2)\n",
        "\n",
        "  elif user_op == '%':\n",
        "    print('Your answer is:', user_number % user_number2)\n",
        "\n",
        "  elif user_op == '**':\n",
        "    print('Your answer is:', user_number ** user_number2)\n",
        "\n",
        "  elif user_op == 'break':\n",
        "    break\n",
        "\n",
        "  else:\n",
        "    continue\n",
        "\n",
        "\n",
        "\n",
        "\n"
      ],
      "metadata": {
        "colab": {
          "base_uri": "https://localhost:8080/"
        },
        "id": "mQ3u1kZE4sx2",
        "outputId": "d94ed169-dd65-40aa-84dc-6568cfdba0fe"
      },
      "execution_count": 16,
      "outputs": [
        {
          "name": "stdout",
          "output_type": "stream",
          "text": [
            "Enter your first number 1\n",
            "Enter your operator 27\n",
            "Enter your second number 27\n",
            "Enter your first number 1\n",
            "Enter your operator break\n",
            "Enter your second number 90\n"
          ]
        }
      ]
    },
    {
      "cell_type": "code",
      "source": [
        "print(2 // 3)"
      ],
      "metadata": {
        "colab": {
          "base_uri": "https://localhost:8080/"
        },
        "id": "ZmwaKiL99Dia",
        "outputId": "26c2a0ed-70da-4401-9dc8-205afe1a9b5e"
      },
      "execution_count": 9,
      "outputs": [
        {
          "output_type": "stream",
          "name": "stdout",
          "text": [
            "0\n"
          ]
        }
      ]
    }
  ]
}