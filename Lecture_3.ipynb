{
  "nbformat": 4,
  "nbformat_minor": 0,
  "metadata": {
    "colab": {
      "provenance": [],
      "toc_visible": true,
      "authorship_tag": "ABX9TyPH7li6O0qnPFa9739s+mL0",
      "include_colab_link": true
    },
    "kernelspec": {
      "name": "python3",
      "display_name": "Python 3"
    },
    "language_info": {
      "name": "python"
    }
  },
  "cells": [
    {
      "cell_type": "markdown",
      "metadata": {
        "id": "view-in-github",
        "colab_type": "text"
      },
      "source": [
        "<a href=\"https://colab.research.google.com/github/HagsUM/BTE-320/blob/main/Lecture_3.ipynb\" target=\"_parent\"><img src=\"https://colab.research.google.com/assets/colab-badge.svg\" alt=\"Open In Colab\"/></a>"
      ]
    },
    {
      "cell_type": "markdown",
      "source": [
        "# Feb 14 Notes"
      ],
      "metadata": {
        "id": "AhHA-nspOK8e"
      }
    },
    {
      "cell_type": "markdown",
      "source": [
        "len()\n",
        "- function used to get the length of a string\n",
        "s[3]\n",
        "- returns letter d in a string that is abcd\n",
        "- strings start w position 0 as their first letter\n",
        "\n",
        "slicing:\n",
        "- creates a new string by using part of another\n",
        "\n",
        "  s[start value:end value:step]\n",
        "  s[2:5:1]\n",
        "\n",
        "\n",
        "\n",
        "function range()\n",
        "- returns a sequence of integers"
      ],
      "metadata": {
        "id": "xQGL_nztOPwz"
      }
    },
    {
      "cell_type": "markdown",
      "source": [
        "# Feb 16 Notes\n"
      ],
      "metadata": {
        "id": "OLWxDQwQZjKN"
      }
    },
    {
      "cell_type": "code",
      "source": [
        "s = 'This is a test'\n",
        "\n",
        "s2 = 'This is another test!'\n",
        "\n",
        "print(len(s2))\n",
        "print(s[8])\n",
        "print(s[5:7:1])\n",
        "print(s[13], s[len(s)-1], s[-1])"
      ],
      "metadata": {
        "colab": {
          "base_uri": "https://localhost:8080/"
        },
        "id": "CBVCmCgYaUxc",
        "outputId": "07bd8e15-87f4-466c-f812-cf0bf0da80b8"
      },
      "execution_count": 9,
      "outputs": [
        {
          "output_type": "stream",
          "name": "stdout",
          "text": [
            "21\n",
            "a\n",
            "is\n",
            "t t t\n"
          ]
        }
      ]
    },
    {
      "cell_type": "markdown",
      "source": [
        "positions of a string can be give from left to right and right to left\n",
        "\n",
        "'abcd',\n",
        " 0123, or\n",
        "-4-3-2-1"
      ],
      "metadata": {
        "id": "zE5mGl0bcb6r"
      }
    },
    {
      "cell_type": "code",
      "source": [
        "s = 'This is a test'\n",
        "this_word = s[:4]\n",
        "test_word = s[10:len(s)]\n",
        "print(this_word, test_word)"
      ],
      "metadata": {
        "colab": {
          "base_uri": "https://localhost:8080/"
        },
        "id": "D6kk2NV2c0Po",
        "outputId": "2617efe8-a3a8-4d2c-f5af-cec5992ba8bb"
      },
      "execution_count": 15,
      "outputs": [
        {
          "output_type": "stream",
          "name": "stdout",
          "text": [
            "This test\n"
          ]
        }
      ]
    },
    {
      "cell_type": "markdown",
      "source": [
        "len(s) can serve as the end position of the string\n",
        "\n",
        "len has:\n",
        "\n",
        "- a default start value of 0\n",
        "- default end value of len(s)\n",
        "- default step of 1"
      ],
      "metadata": {
        "id": "_qwlwFOtdY7U"
      }
    },
    {
      "cell_type": "code",
      "source": [
        "s[0:4] == s[:4]\n",
        "print(s[:])"
      ],
      "metadata": {
        "colab": {
          "base_uri": "https://localhost:8080/"
        },
        "id": "Y_0otrCbeUl4",
        "outputId": "568aeb1e-25c5-4b5f-d4cb-e3f052d57dc3"
      },
      "execution_count": 19,
      "outputs": [
        {
          "output_type": "stream",
          "name": "stdout",
          "text": [
            "This is a test\n"
          ]
        }
      ]
    },
    {
      "cell_type": "markdown",
      "source": [
        "code that starts on the second character and ends on the 12th. also skips every other character\n"
      ],
      "metadata": {
        "id": "YKRSXofBfEub"
      }
    },
    {
      "cell_type": "code",
      "source": [
        "s[1:12:2]\n",
        "s[-4:]"
      ],
      "metadata": {
        "colab": {
          "base_uri": "https://localhost:8080/",
          "height": 35
        },
        "id": "bhlULT2jfLiN",
        "outputId": "3012cd75-77ee-442a-8285-34a2fe4046db"
      },
      "execution_count": 22,
      "outputs": [
        {
          "output_type": "execute_result",
          "data": {
            "text/plain": [
              "'test'"
            ],
            "application/vnd.google.colaboratory.intrinsic+json": {
              "type": "string"
            }
          },
          "metadata": {},
          "execution_count": 22
        }
      ]
    },
    {
      "cell_type": "code",
      "source": [
        "s1 = 'Hello '\n",
        "s2 = 'there'\n",
        "\n",
        "s1 + s2"
      ],
      "metadata": {
        "colab": {
          "base_uri": "https://localhost:8080/",
          "height": 35
        },
        "id": "3oCB-HKTgo0Z",
        "outputId": "5ad2761d-119f-4694-c4b2-14ab5fb1c8eb"
      },
      "execution_count": 23,
      "outputs": [
        {
          "output_type": "execute_result",
          "data": {
            "text/plain": [
              "'Hello there'"
            ],
            "application/vnd.google.colaboratory.intrinsic+json": {
              "type": "string"
            }
          },
          "metadata": {},
          "execution_count": 23
        }
      ]
    },
    {
      "cell_type": "markdown",
      "source": [
        "above is an addition or concatenation of strings. the outcome is a new string that has a length equal to the two stings added together"
      ],
      "metadata": {
        "id": "Zxze67xzg4Vv"
      }
    },
    {
      "cell_type": "code",
      "source": [
        "s3 = 'abc'\n",
        "3 * s3"
      ],
      "metadata": {
        "colab": {
          "base_uri": "https://localhost:8080/",
          "height": 35
        },
        "id": "E_nAt-SfhYG7",
        "outputId": "d554409c-9b7e-47fc-d32b-8b719b2cdfc2"
      },
      "execution_count": 26,
      "outputs": [
        {
          "output_type": "execute_result",
          "data": {
            "text/plain": [
              "'abcabcabc'"
            ],
            "application/vnd.google.colaboratory.intrinsic+json": {
              "type": "string"
            }
          },
          "metadata": {},
          "execution_count": 26
        }
      ]
    },
    {
      "cell_type": "markdown",
      "source": [
        "when you multiply a string by an integer, it returns the string repeated as many times as its multiplied by"
      ],
      "metadata": {
        "id": "ELSWwAw7hejK"
      }
    },
    {
      "cell_type": "markdown",
      "source": [
        "the outcome of both functions above results in a brand new string that has nothing to do with the strings that were used to create it"
      ],
      "metadata": {
        "id": "a4hDdjTMiIyU"
      }
    },
    {
      "cell_type": "code",
      "source": [],
      "metadata": {
        "id": "LTs6eoMZieVJ"
      },
      "execution_count": null,
      "outputs": []
    },
    {
      "cell_type": "code",
      "source": [],
      "metadata": {
        "id": "-MlIxL4zidSx"
      },
      "execution_count": null,
      "outputs": []
    }
  ]
}