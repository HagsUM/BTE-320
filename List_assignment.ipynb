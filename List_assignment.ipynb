{
  "nbformat": 4,
  "nbformat_minor": 0,
  "metadata": {
    "colab": {
      "provenance": [],
      "authorship_tag": "ABX9TyMNnzhOCOV8fR8sdkB0pG3v",
      "include_colab_link": true
    },
    "kernelspec": {
      "name": "python3",
      "display_name": "Python 3"
    },
    "language_info": {
      "name": "python"
    }
  },
  "cells": [
    {
      "cell_type": "markdown",
      "metadata": {
        "id": "view-in-github",
        "colab_type": "text"
      },
      "source": [
        "<a href=\"https://colab.research.google.com/github/HagsUM/BTE-320/blob/main/List_assignment.ipynb\" target=\"_parent\"><img src=\"https://colab.research.google.com/assets/colab-badge.svg\" alt=\"Open In Colab\"/></a>"
      ]
    },
    {
      "cell_type": "code",
      "execution_count": 1,
      "metadata": {
        "colab": {
          "base_uri": "https://localhost:8080/"
        },
        "id": "GW8_iFefTxu7",
        "outputId": "e41452f6-13c6-4daa-9aa5-7017c33063e0"
      },
      "outputs": [
        {
          "output_type": "stream",
          "name": "stdout",
          "text": [
            "Enter a value: 1\n",
            "[1]\n",
            "Enter a value: 2\n",
            "[1, 2]\n",
            "Enter a value: 3\n",
            "[1, 2, 3]\n",
            "Enter a value: 1\n",
            "[1, 2, 3, 1]\n",
            "Enter a value: 0\n",
            "[1, 2, 3, 1]\n"
          ]
        }
      ],
      "source": [
        "L = []\n",
        "number = int(input('Enter a value: '))\n",
        "while number != 0:\n",
        "  L.append(number)\n",
        "  print(L)\n",
        "  number = int(input('Enter a value: '))\n",
        "if number == 0:\n",
        "  print(L)"
      ]
    }
  ]
}