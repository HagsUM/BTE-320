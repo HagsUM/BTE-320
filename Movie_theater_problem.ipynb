{
  "nbformat": 4,
  "nbformat_minor": 0,
  "metadata": {
    "colab": {
      "provenance": [],
      "authorship_tag": "ABX9TyMcg4it3aqHyogLrCg59I9u",
      "include_colab_link": true
    },
    "kernelspec": {
      "name": "python3",
      "display_name": "Python 3"
    },
    "language_info": {
      "name": "python"
    }
  },
  "cells": [
    {
      "cell_type": "markdown",
      "metadata": {
        "id": "view-in-github",
        "colab_type": "text"
      },
      "source": [
        "<a href=\"https://colab.research.google.com/github/HagsUM/BTE-320/blob/main/Movie_theater_problem.ipynb\" target=\"_parent\"><img src=\"https://colab.research.google.com/assets/colab-badge.svg\" alt=\"Open In Colab\"/></a>"
      ]
    },
    {
      "cell_type": "code",
      "execution_count": 1,
      "metadata": {
        "colab": {
          "base_uri": "https://localhost:8080/"
        },
        "id": "Br2U86PusBKS",
        "outputId": "2b3fb7fe-f6b0-4cb1-f2f3-5cb329e5e345"
      },
      "outputs": [
        {
          "output_type": "stream",
          "name": "stdout",
          "text": [
            "advertising Expenditure: $ 0.0 ---profit: $ 0.0\n",
            "advertising Expenditure: $ 25.0 ---profit: $ 75.0\n",
            "advertising Expenditure: $ 50.0 ---profit: $ 90.0\n",
            "advertising Expenditure: $ 75.0 ---profit: $ 105.0\n",
            "advertising Expenditure: $ 100.0 ---profit: $ 100.0\n",
            "advertising Expenditure: $ 125.0 ---profit: $ 95.0\n",
            "advertising Expenditure: $ 150.0 ---profit: $ 90.0\n",
            "advertising Expenditure: $ 175.0 ---profit: $ 85.0\n",
            "advertising Expenditure: $ 200.0 ---profit: $ 80.0\n"
          ]
        }
      ],
      "source": [
        "for dollars in range (0, 225, 25):\n",
        "  profit = 200+10*(2*round(dollars**0.5))-200-dollars\n",
        "  print(\"advertising Expenditure: $\", float(dollars), \"---profit: $\", float(profit))"
      ]
    }
  ]
}