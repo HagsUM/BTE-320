{
  "nbformat": 4,
  "nbformat_minor": 0,
  "metadata": {
    "colab": {
      "provenance": [],
      "toc_visible": true,
      "authorship_tag": "ABX9TyO/jP/6f8P+uFF0jWycUrZD",
      "include_colab_link": true
    },
    "kernelspec": {
      "name": "python3",
      "display_name": "Python 3"
    },
    "language_info": {
      "name": "python"
    }
  },
  "cells": [
    {
      "cell_type": "markdown",
      "metadata": {
        "id": "view-in-github",
        "colab_type": "text"
      },
      "source": [
        "<a href=\"https://colab.research.google.com/github/HagsUM/BTE-320/blob/main/MASTER_FOLDER.ipynb\" target=\"_parent\"><img src=\"https://colab.research.google.com/assets/colab-badge.svg\" alt=\"Open In Colab\"/></a>"
      ]
    },
    {
      "cell_type": "markdown",
      "source": [
        "# Feb 26"
      ],
      "metadata": {
        "id": "Bf5ShgbV585_"
      }
    },
    {
      "cell_type": "markdown",
      "source": [
        "lists:\n",
        "- Function len returns the amount of objects within the brackets\n",
        "- You can slice lists just like strings\n",
        "- Indexing lists works the exact same way as it does with strings\n",
        "- You can concatenate the same way you can with strings\n",
        "- You can multiply a list by an integer"
      ],
      "metadata": {
        "id": "_Uy8ktG-6AWn"
      }
    },
    {
      "cell_type": "code",
      "source": [
        "L = [1, 'two', 3.14, print, [5, 7, 9]]\n",
        "len(L)"
      ],
      "metadata": {
        "id": "5v6UZg_76BQT",
        "colab": {
          "base_uri": "https://localhost:8080/"
        },
        "outputId": "e14d3c96-8dc9-449b-e60b-247431771bde"
      },
      "execution_count": null,
      "outputs": [
        {
          "output_type": "execute_result",
          "data": {
            "text/plain": [
              "5"
            ]
          },
          "metadata": {},
          "execution_count": 40
        }
      ]
    },
    {
      "cell_type": "code",
      "source": [
        "L[:3]\n",
        "L[3:]\n",
        "L[2]\n",
        "L[-1]\n",
        "L + ['three', 9.99, 0]\n",
        "3 * L"
      ],
      "metadata": {
        "id": "BQLqHAm066ZV",
        "colab": {
          "base_uri": "https://localhost:8080/"
        },
        "outputId": "652a224f-9978-4d06-a749-3e525e78287b"
      },
      "execution_count": null,
      "outputs": [
        {
          "output_type": "execute_result",
          "data": {
            "text/plain": [
              "[1,\n",
              " 'two',\n",
              " 3.14,\n",
              " <function print>,\n",
              " [5, 7, 9],\n",
              " 1,\n",
              " 'two',\n",
              " 3.14,\n",
              " <function print>,\n",
              " [5, 7, 9],\n",
              " 1,\n",
              " 'two',\n",
              " 3.14,\n",
              " <function print>,\n",
              " [5, 7, 9]]"
            ]
          },
          "metadata": {},
          "execution_count": 41
        }
      ]
    },
    {
      "cell_type": "markdown",
      "source": [
        "below are new list operations"
      ],
      "metadata": {
        "id": "6GBcLjFv9CoB"
      }
    },
    {
      "cell_type": "code",
      "source": [
        "L[3] = 'New Value'\n",
        "print(L)\n"
      ],
      "metadata": {
        "colab": {
          "base_uri": "https://localhost:8080/"
        },
        "id": "9aWDAnRm9EKV",
        "outputId": "c334d9c8-f722-4761-cff4-17e2be110b12"
      },
      "execution_count": null,
      "outputs": [
        {
          "output_type": "stream",
          "name": "stdout",
          "text": [
            "[1, 'two', 3.14, 'New Value', [5, 7, 9]]\n"
          ]
        }
      ]
    },
    {
      "cell_type": "code",
      "source": [
        "L = [1, 'two', 3.14, print, [5, 7, 9]]"
      ],
      "metadata": {
        "id": "JiPDVgKoA9az"
      },
      "execution_count": null,
      "outputs": []
    },
    {
      "cell_type": "code",
      "source": [
        "for index in range(len(L)):\n",
        "  print(L[index])"
      ],
      "metadata": {
        "colab": {
          "base_uri": "https://localhost:8080/"
        },
        "id": "lR8lFOUU99mD",
        "outputId": "b1294961-4268-4a9f-9fcb-a01b194492f0"
      },
      "execution_count": null,
      "outputs": [
        {
          "output_type": "stream",
          "name": "stdout",
          "text": [
            "1\n",
            "two\n",
            "3.14\n",
            "New Value\n",
            "[5, 7, 9]\n"
          ]
        }
      ]
    },
    {
      "cell_type": "code",
      "source": [
        "for item in L:\n",
        "  print(item)"
      ],
      "metadata": {
        "id": "bjz9AkOz_mdj",
        "colab": {
          "base_uri": "https://localhost:8080/"
        },
        "outputId": "0562f3ef-2382-43dc-d9a5-50c7844cb098"
      },
      "execution_count": null,
      "outputs": [
        {
          "output_type": "stream",
          "name": "stdout",
          "text": [
            "1\n",
            "two\n",
            "3.14\n",
            "New Value\n",
            "[5, 7, 9]\n"
          ]
        }
      ]
    },
    {
      "cell_type": "code",
      "source": [
        "L_outer = [[1, 2, 3], [4, 5, 6]]\n",
        "L_outer[1][0] = 7\n",
        "L_outer\n"
      ],
      "metadata": {
        "colab": {
          "base_uri": "https://localhost:8080/"
        },
        "id": "PxJPfcJ6BjAA",
        "outputId": "aebaa911-9e6d-4bb4-b442-07bf07c1712a"
      },
      "execution_count": null,
      "outputs": [
        {
          "output_type": "execute_result",
          "data": {
            "text/plain": [
              "[[1, 2, 3], [7, 5, 6]]"
            ]
          },
          "metadata": {},
          "execution_count": 55
        }
      ]
    },
    {
      "cell_type": "markdown",
      "source": [
        "# March 1"
      ],
      "metadata": {
        "id": "Ww4S0FGvgAMj"
      }
    },
    {
      "cell_type": "code",
      "source": [
        "L = [1, 2, 4, 0, 3]\n",
        "L.sort(reverse=True)\n",
        "L"
      ],
      "metadata": {
        "colab": {
          "base_uri": "https://localhost:8080/"
        },
        "id": "9j4Bg5EsgVeW",
        "outputId": "e90d0e17-9187-489a-d6d4-838ccb58c8cf"
      },
      "execution_count": 5,
      "outputs": [
        {
          "output_type": "execute_result",
          "data": {
            "text/plain": [
              "[0, 1, 2, 3, 4]"
            ]
          },
          "metadata": {},
          "execution_count": 5
        }
      ]
    },
    {
      "cell_type": "markdown",
      "source": [
        "Sort sorts the list"
      ],
      "metadata": {
        "id": "s-Q-Rzq3hXgz"
      }
    },
    {
      "cell_type": "code",
      "source": [
        "l1 = [1,2,3,4]\n",
        "l2 = [1,2,5,6]\n",
        "\n",
        "for item in l1[:]:\n",
        "  if item in l2:\n",
        "    l1.remove(item)\n",
        "\n",
        "l1"
      ],
      "metadata": {
        "colab": {
          "base_uri": "https://localhost:8080/"
        },
        "id": "6Z1Jnsbchyqr",
        "outputId": "275b1e17-17ca-4e3d-ef3f-53428fd73be1"
      },
      "execution_count": 10,
      "outputs": [
        {
          "output_type": "execute_result",
          "data": {
            "text/plain": [
              "[3, 4]"
            ]
          },
          "metadata": {},
          "execution_count": 10
        }
      ]
    },
    {
      "cell_type": "markdown",
      "source": [
        "Tuples:\n",
        "- Structure is shown below\n",
        "- cannot be modified"
      ],
      "metadata": {
        "id": "minsGtnFkzb3"
      }
    },
    {
      "cell_type": "code",
      "source": [
        "t = (1, 'two', 3.0)\n",
        "len(t)\n",
        "t[1]\n",
        "t[:2]\n",
        "t + t[:2]"
      ],
      "metadata": {
        "colab": {
          "base_uri": "https://localhost:8080/"
        },
        "id": "kt4-HRftiJ2H",
        "outputId": "c7a75afd-0ec1-4833-c831-b70c7c2f0dfc"
      },
      "execution_count": 15,
      "outputs": [
        {
          "output_type": "execute_result",
          "data": {
            "text/plain": [
              "(1, 'two', 3.0, 1, 'two')"
            ]
          },
          "metadata": {},
          "execution_count": 15
        }
      ]
    },
    {
      "cell_type": "markdown",
      "source": [
        "Dictionaries:\n",
        "- Mutable (you can modify them)\n",
        "- dictionaries dont store an order\n",
        "- you access values through keys that are associated with each value\n",
        "- they use {}\n",
        "- using x[] can add to the dictionary, or update the value\n",
        "- keys are unique in dictionaries\n",
        "- keys are also immutable\n",
        "- keys have to be numbers, booleans, strings, and tuples"
      ],
      "metadata": {
        "id": "BAbp01Ejl9PS"
      }
    },
    {
      "cell_type": "code",
      "source": [
        "grades = {\n",
        "    'Alice' : 91,\n",
        "    'Bob' : 88,\n",
        "    'Tracy' : 93,\n",
        "    'Erik' : 90\n",
        "}\n",
        "\n",
        "grades['Alice']\n",
        "grades['Megan'] = 60\n",
        "grades\n",
        "grades['Tracy'] = 96\n",
        "grades\n",
        "del grades['Alice']\n",
        "grades"
      ],
      "metadata": {
        "id": "BiI4pCpDl-L-"
      },
      "execution_count": null,
      "outputs": []
    }
  ]
}