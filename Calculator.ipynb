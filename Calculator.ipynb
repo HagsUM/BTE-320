{
  "nbformat": 4,
  "nbformat_minor": 0,
  "metadata": {
    "colab": {
      "provenance": [],
      "authorship_tag": "ABX9TyOVcMjFjj9kvORAbx5vpNTD",
      "include_colab_link": true
    },
    "kernelspec": {
      "name": "python3",
      "display_name": "Python 3"
    },
    "language_info": {
      "name": "python"
    }
  },
  "cells": [
    {
      "cell_type": "markdown",
      "metadata": {
        "id": "view-in-github",
        "colab_type": "text"
      },
      "source": [
        "<a href=\"https://colab.research.google.com/github/HagsUM/BTE-320/blob/main/Calculator.ipynb\" target=\"_parent\"><img src=\"https://colab.research.google.com/assets/colab-badge.svg\" alt=\"Open In Colab\"/></a>"
      ]
    },
    {
      "cell_type": "code",
      "execution_count": 3,
      "metadata": {
        "colab": {
          "base_uri": "https://localhost:8080/"
        },
        "id": "DNHkBrMcqyv4",
        "outputId": "05355edd-60cb-4ef9-82fa-cea09117a03b"
      },
      "outputs": [
        {
          "name": "stdout",
          "output_type": "stream",
          "text": [
            "Enter your first number 13\n",
            "Enter your operator /\n",
            "Enter your second number 9\n",
            "Your answer is: 1.4444444444444444\n",
            "Enter your first number 22\n",
            "Enter your operator break\n",
            "Enter your second number 8\n"
          ]
        }
      ],
      "source": [
        "while True:\n",
        "  user_number = float(input('Enter your first number '))\n",
        "  user_op = input('Enter your operator ')\n",
        "  user_number2 = float(input('Enter your second number '))\n",
        "\n",
        "  if user_op == '+':\n",
        "    print('Your answer is:', user_number + user_number2)\n",
        "\n",
        "  elif user_op == '-':\n",
        "    print('Your answer is:', user_number - user_number2)\n",
        "\n",
        "  elif user_op == '*':\n",
        "    print('Your answer is:', user_number * user_number2)\n",
        "\n",
        "  elif user_op == '/':\n",
        "    print('Your answer is:', user_number / user_number2)\n",
        "\n",
        "  elif user_op == '//':\n",
        "    print('Your answer is:', user_number // user_number2)\n",
        "\n",
        "  elif user_op == '%':\n",
        "    print('Your answer is:', user_number % user_number2)\n",
        "\n",
        "  elif user_op == '**':\n",
        "    print('Your answer is:', user_number ** user_number2)\n",
        "\n",
        "  elif user_op == 'break':\n",
        "    break\n",
        "\n",
        "  else:\n",
        "    continue\n"
      ]
    }
  ]
}