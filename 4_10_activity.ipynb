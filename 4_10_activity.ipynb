{
  "nbformat": 4,
  "nbformat_minor": 0,
  "metadata": {
    "colab": {
      "provenance": [],
      "authorship_tag": "ABX9TyPj7FFWmxPFXiM9S6xrYtn4",
      "include_colab_link": true
    },
    "kernelspec": {
      "name": "python3",
      "display_name": "Python 3"
    },
    "language_info": {
      "name": "python"
    }
  },
  "cells": [
    {
      "cell_type": "markdown",
      "metadata": {
        "id": "view-in-github",
        "colab_type": "text"
      },
      "source": [
        "<a href=\"https://colab.research.google.com/github/HagsUM/BTE-320/blob/main/4_10_activity.ipynb\" target=\"_parent\"><img src=\"https://colab.research.google.com/assets/colab-badge.svg\" alt=\"Open In Colab\"/></a>"
      ]
    },
    {
      "cell_type": "code",
      "execution_count": 14,
      "metadata": {
        "colab": {
          "base_uri": "https://localhost:8080/"
        },
        "id": "tIy2JF6WTyZ-",
        "outputId": "251d49d4-4d3d-4806-bedf-ff0bb79aa2c3"
      },
      "outputs": [
        {
          "output_type": "stream",
          "name": "stdout",
          "text": [
            "Input a list1, 2, 3\n",
            "Must input lists\n",
            "nan\n"
          ]
        }
      ],
      "source": [
        "def avg(alist):\n",
        "  try:\n",
        "    return avg(sum(alist)/len(alist))\n",
        "  except ZeroDivisionError:\n",
        "    print('Input a list next time')\n",
        "    return []\n",
        "  except TypeError:\n",
        "    print('Must input lists')\n",
        "    return float('nan')\n",
        "\n",
        "a = avg(list(input('Input a list')))\n",
        "print(a)\n",
        "\n"
      ]
    }
  ]
}