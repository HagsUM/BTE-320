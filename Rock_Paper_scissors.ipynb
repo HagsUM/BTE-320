{
  "nbformat": 4,
  "nbformat_minor": 0,
  "metadata": {
    "colab": {
      "provenance": [],
      "authorship_tag": "ABX9TyMBn2VRTIxio0TUHj54mhln",
      "include_colab_link": true
    },
    "kernelspec": {
      "name": "python3",
      "display_name": "Python 3"
    },
    "language_info": {
      "name": "python"
    }
  },
  "cells": [
    {
      "cell_type": "markdown",
      "metadata": {
        "id": "view-in-github",
        "colab_type": "text"
      },
      "source": [
        "<a href=\"https://colab.research.google.com/github/HagsUM/BTE-320/blob/main/Rock_Paper_scissors.ipynb\" target=\"_parent\"><img src=\"https://colab.research.google.com/assets/colab-badge.svg\" alt=\"Open In Colab\"/></a>"
      ]
    },
    {
      "cell_type": "code",
      "execution_count": 1,
      "metadata": {
        "colab": {
          "base_uri": "https://localhost:8080/"
        },
        "id": "yn40ZO2SqP8O",
        "outputId": "1b4e08c4-fe6c-436d-c741-b3f1247c0db3"
      },
      "outputs": [
        {
          "name": "stdout",
          "output_type": "stream",
          "text": [
            "Do you want to play the game? Please enter: yes or no yes\n",
            "Enter rock, paper, or scissors: rock\n",
            "Computer chose: rock... Its a tie :/\n",
            "Do you want to play the game? Please enter: yes or no no\n"
          ]
        }
      ],
      "source": [
        "import random\n",
        "user_input = input('Do you want to play the game? Please enter: yes or no ')\n",
        "while user_input == 'yes':\n",
        "  user_input = input('Enter rock, paper, or scissors: ')\n",
        "  pc_choice = random.choice(['rock','paper','scissors'])\n",
        "\n",
        "  if user_input == pc_choice:\n",
        "    print(f'Computer chose: {pc_choice}... Its a tie :/')\n",
        "  elif (user_input == 'paper' and pc_choice == 'rock') or (user_input == 'scissors' and pc_choice == 'paper') or (user_input =='rock' and pc_choice == 'scissors'):\n",
        "   print(f'Computer chose: {pc_choice}... You win!')\n",
        "  else:\n",
        "   print(f'Computer chose: {pc_choice}... You lose :(')\n",
        "  user_input = input('Do you want to play the game? Please enter: yes or no ')"
      ]
    },
    {
      "cell_type": "code",
      "source": [
        "import random\n",
        "user_input = input('Enter rock, paper, or scissors: ')\n",
        "pc_choice = random.choice(['rock','paper','scissors'])\n",
        "\n",
        "if user_input == pc_choice:\n",
        "  print(f'Computer chose: {pc_choice}... Its a tie :/')\n",
        "elif (user_input == 'paper' and pc_choice == 'rock') or (user_input == 'scissors' and pc_choice == 'paper') or (user_input =='rock' and pc_choice == 'scissors'):\n",
        "  print(f'Computer chose: {pc_choice}... You win!')\n",
        "else:\n",
        "  print(f'Computer chose: {pc_choice}... You lose :(')"
      ],
      "metadata": {
        "id": "Hnv-1immqn9m",
        "outputId": "fa167698-4206-49bc-b708-61ac76e963a2",
        "colab": {
          "base_uri": "https://localhost:8080/"
        }
      },
      "execution_count": 2,
      "outputs": [
        {
          "output_type": "stream",
          "name": "stdout",
          "text": [
            "Enter rock, paper, or scissors: rock\n",
            "Computer chose: paper... You lose :(\n"
          ]
        }
      ]
    }
  ]
}