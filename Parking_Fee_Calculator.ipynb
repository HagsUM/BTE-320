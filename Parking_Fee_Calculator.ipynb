{
  "nbformat": 4,
  "nbformat_minor": 0,
  "metadata": {
    "colab": {
      "provenance": [],
      "authorship_tag": "ABX9TyOoVKteGpqoX4K+1Ex4eWjs",
      "include_colab_link": true
    },
    "kernelspec": {
      "name": "python3",
      "display_name": "Python 3"
    },
    "language_info": {
      "name": "python"
    }
  },
  "cells": [
    {
      "cell_type": "markdown",
      "metadata": {
        "id": "view-in-github",
        "colab_type": "text"
      },
      "source": [
        "<a href=\"https://colab.research.google.com/github/HagsUM/BTE-320/blob/main/Parking_Fee_Calculator.ipynb\" target=\"_parent\"><img src=\"https://colab.research.google.com/assets/colab-badge.svg\" alt=\"Open In Colab\"/></a>"
      ]
    },
    {
      "cell_type": "code",
      "execution_count": 2,
      "metadata": {
        "colab": {
          "base_uri": "https://localhost:8080/"
        },
        "id": "I43vVbCZssZA",
        "outputId": "d30e020f-f54e-4e5c-a040-69eaec6deab6"
      },
      "outputs": [
        {
          "output_type": "stream",
          "name": "stdout",
          "text": [
            "Enter the numbers of hours parked. 11\n",
            "20.0\n"
          ]
        }
      ],
      "source": [
        "def getParkingHours():\n",
        "  hours = float(input(\"Enter the numbers of hours parked. \"))\n",
        "  return hours\n",
        "\n",
        "def calcParkingFee(hours):\n",
        "  fee = hours * 2.5\n",
        "  if fee < 6.00:\n",
        "    fee == 6.00\n",
        "  elif fee > 20.00:\n",
        "    fee = 20.00\n",
        "  return fee\n",
        "\n",
        "print(calcParkingFee(getParkingHours()))\n"
      ]
    }
  ]
}